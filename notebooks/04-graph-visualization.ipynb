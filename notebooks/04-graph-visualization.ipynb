{
 "cells": [
  {
   "cell_type": "markdown",
   "metadata": {},
   "source": [
    "# Graph Visualization Techniques\n\nThis notebook demonstrates various graph visualization techniques using NetworkX, Matplotlib, and Plotly.\n\n## Learning Objectives\n- Understand different layout algorithms\n- Create effective visualizations\n- Customize graph appearance\n- Analyze visual patterns"
   ]
  },
  {
   "cell_type": "code",
   "execution_count": null,
   "metadata": {},
   "outputs": [],
   "source": [
    "import networkx as nx\nimport matplotlib.pyplot as plt\nimport numpy as np\nimport pandas as pd\nimport plotly.graph_objects as go\nimport plotly.express as px\n\n%matplotlib inline\nplt.rcParams['figure.figsize'] = (12, 8)"
   ]
  },
  {
   "cell_type": "markdown",
   "metadata": {},
   "source": [
    "## 1. Basic Graph Visualization\n\nLet's start with basic graph visualization techniques."
   ]
  },
  {
   "cell_type": "code",
   "execution_count": null,
   "metadata": {},
   "outputs": [],
   "source": [
    "# Create a sample graph\nG = nx.karate_club_graph()\nprint(f\"Graph: {G.number_of_nodes()} nodes, {G.number_of_edges()} edges\")\n\n# Basic visualization\nplt.figure(figsize=(10, 8))\nnx.draw(G, with_labels=True, node_color='lightblue', node_size=500, font_size=10)\nplt.title('Karate Club Network')\nplt.show()"
   ]
  },
  {
   "cell_type": "markdown",
   "metadata": {},
   "source": [
    "## 2. Layout Algorithms\n\nExplore different layout algorithms for graph visualization."
   ]
  },
  {
   "cell_type": "code",
   "execution_count": null,
   "metadata": {},
   "outputs": [],
   "source": [
    "# Compare different layouts\nlayouts = {\n    'spring': nx.spring_layout,\n    'circular': nx.circular_layout,\n    'random': nx.random_layout,\n    'shell': nx.shell_layout\n}\n\nfig, axes = plt.subplots(2, 2, figsize=(15, 12))\naxes = axes.ravel()\n\nfor i, (name, layout_func) in enumerate(layouts.items()):\n    pos = layout_func(G)\n    nx.draw(G, pos, ax=axes[i], with_labels=True, node_color='lightgreen', \n            node_size=300, font_size=8)\n    axes[i].set_title(f'{name.title()} Layout')\n\nplt.tight_layout()\nplt.show()"
   ]
  },
  {
   "cell_type": "markdown",
   "metadata": {},
   "source": [
    "## 3. Interactive Visualization with Plotly\n\nCreate interactive visualizations using Plotly."
   ]
  },
  {
   "cell_type": "code",
   "execution_count": null,
   "metadata": {},
   "outputs": [],
   "source": [
    "# Create interactive visualization\npos = nx.spring_layout(G)\n\n# Extract node positions\nnode_x = [pos[node][0] for node in G.nodes()]\nnode_y = [pos[node][1] for node in G.nodes()]\n\n# Create edge traces\nedge_x, edge_y = [], []\nfor edge in G.edges():\n    x0, y0 = pos[edge[0]]\n    x1, y1 = pos[edge[1]]\n    edge_x.extend([x0, x1, None])\n    edge_y.extend([y0, y1, None])\n\n# Create the interactive plot\nfig = go.Figure()\n\n# Add edges\nfig.add_trace(go.Scatter(x=edge_x, y=edge_y, mode='lines', \n                        line=dict(width=0.5, color='#888'), hoverinfo='none'))\n\n# Add nodes\nfig.add_trace(go.Scatter(x=node_x, y=node_y, mode='markers+text', \n                        marker=dict(size=10, color='lightblue'), \n                        text=list(G.nodes()), textposition=\"middle center\",\n                        hoverinfo='text'))\n\nfig.update_layout(title='Interactive Karate Club Network', \n                  showlegend=False, hovermode='closest')\nfig.show()"
   ]
  }
 ],
 "metadata": {
  "kernelspec": {
   "display_name": "Python 3",
   "language": "python",
   "name": "python3"
  },
  "language_info": {
   "codemirror_mode": {
    "name": "ipython",
    "version": 3
   },
   "file_extension": ".py",
   "mimetype": "text/x-python",
   "name": "python",
   "nbconvert_exporter": "python",
   "pygments_lexer": "ipython3",
   "version": "3.8.5"
  }
 },
 "nbformat": 4,
 "nbformat_minor": 4
}