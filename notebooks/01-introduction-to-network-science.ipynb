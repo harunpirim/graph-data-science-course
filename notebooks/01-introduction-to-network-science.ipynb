{
 "cells": [
  {
   "cell_type": "markdown",
   "metadata": {},
   "source": [
    "# Introduction to Network Science\n",
    "\n",
    "This notebook provides a comprehensive introduction to network science and graph theory fundamentals.\n",
    "\n",
    "## Learning Objectives\n",
    "- Understand basic network science concepts\n",
    "- Learn graph theory fundamentals\n",
    "- Explore different types of networks\n",
    "- Analyze network properties and metrics\n",
    "- Understand real-world network applications"
   ]
  },
  {
   "cell_type": "code",
   "execution_count": null,
   "metadata": {},
   "outputs": [],
   "source": [
    "# Import required libraries\n",
    "import networkx as nx\n",
    "import matplotlib.pyplot as plt\n",
    "import numpy as np\n",
    "import pandas as pd\n",
    "import seaborn as sns\n",
    "\n",
    "# Set style for better plots\n",
    "plt.style.use('default')\n",
    "sns.set_palette(\"husl\")\n",
    "\n",
    "# For better display in notebooks\n",
    "%matplotlib inline\n",
    "plt.rcParams['figure.figsize'] = (12, 8)\n",
    "\n",
    "print(\"Network Science Libraries Imported Successfully!\")"
   ]
  },
  {
   "cell_type": "markdown",
   "metadata": {},
   "source": [
    "## 1. What is Network Science?\n",
    "\n",
    "Network Science is the study of complex systems represented as networks (graphs) where entities are nodes and relationships are edges."
   ]
  },
  {
   "cell_type": "code",
   "execution_count": null,
   "metadata": {},
   "outputs": [],
   "source": [
    "# Create a simple example network\n",
    "G_simple = nx.Graph()\n",
    "\n",
    "# Add nodes (entities)\n",
    "G_simple.add_nodes_from(['Alice', 'Bob', 'Charlie', 'Diana', 'Eve'])\n",
    "\n",
    "# Add edges (relationships)\n",
    "G_simple.add_edges_from([\n",
    "    ('Alice', 'Bob'),\n",
    "    ('Alice', 'Charlie'),\n",
    "    ('Bob', 'Charlie'),\n",
    "    ('Charlie', 'Diana'),\n",
    "    ('Diana', 'Eve'),\n",
    "    ('Eve', 'Alice')\n",
    "])\n",
    "\n",
    "print(f\"Network: {G_simple.number_of_nodes()} nodes, {G_simple.number_of_edges()} edges\")\n",
    "print(f\"Nodes: {list(G_simple.nodes())}\")\n",
    "print(f\"Edges: {list(G_simple.edges())}\")"
   ]
  },
  {
   "cell_type": "code",
   "execution_count": null,
   "metadata": {},
   "outputs": [],
   "source": [
    "# Visualize the simple network\n",
    "plt.figure(figsize=(10, 8))\n",
    "pos = nx.spring_layout(G_simple, seed=42)\n",
    "\n",
    "nx.draw(G_simple, pos, with_labels=True, node_color='lightblue', \n",
    "        node_size=1000, font_size=12, font_weight='bold', \n",
    "        edge_color='gray', width=2)\n",
    "\n",
    "plt.title('Simple Social Network Example', fontsize=16, fontweight='bold')\n",
    "plt.show()"
   ]
  },
  {
   "cell_type": "markdown",
   "metadata": {},
   "source": [
    "## Find Neighbors of a node?"
   ]
  },
  {
   "cell_type": "code",
   "execution_count": null,
   "metadata": {},
   "outputs": [],
   "source": [
    "list(G_simple.neighbors(\"Alice \"))\n"
   ]
  },
  {
   "cell_type": "markdown",
   "metadata": {},
   "source": [
    "## 2. Types of Networks\n",
    "\n",
    "Networks can be classified into different types based on their properties."
   ]
  },
  {
   "cell_type": "code",
   "execution_count": null,
   "metadata": {},
   "outputs": [],
   "source": [
    "# Create different types of networks\n",
    "\n",
    "# 1. Undirected Network (like friendship)\n",
    "G_undirected = nx.Graph()\n",
    "G_undirected.add_edges_from([(1, 2), (2, 3), (3, 1), (3, 4), (4, 5)])\n",
    "\n",
    "# 2. Directed Network (like following on social media)\n",
    "G_directed = nx.DiGraph()\n",
    "G_directed.add_edges_from([(1, 2), (2, 3), (3, 1), (3, 4), (4, 5)])\n",
    "\n",
    "# 3. Weighted Network (like communication frequency)\n",
    "G_weighted = nx.Graph()\n",
    "G_weighted.add_weighted_edges_from([\n",
    "    (1, 2, 0.8), (2, 3, 0.6), (3, 1, 0.9), \n",
    "    (3, 4, 0.3), (4, 5, 0.7)\n",
    "])\n",
    "\n",
    "print(\"Network Types Created:\")\n",
    "print(f\"1. Undirected: {G_undirected.number_of_nodes()} nodes, {G_undirected.number_of_edges()} edges\")\n",
    "print(f\"2. Directed: {G_directed.number_of_nodes()} nodes, {G_directed.number_of_edges()} edges\")\n",
    "print(f\"3. Weighted: {G_weighted.number_of_nodes()} nodes, {G_weighted.number_of_edges()} edges\")"
   ]
  },
  {
   "cell_type": "code",
   "execution_count": null,
   "metadata": {},
   "outputs": [],
   "source": [
    "# Visualize different network types\n",
    "fig, axes = plt.subplots(1, 3, figsize=(18, 6))\n",
    "\n",
    "# Undirected\n",
    "pos1 = nx.spring_layout(G_undirected, seed=42)\n",
    "nx.draw(G_undirected, pos1, ax=axes[0], with_labels=True, \n",
    "        node_color='lightblue', node_size=500, font_size=10)\n",
    "axes[0].set_title('Undirected Network', fontweight='bold')\n",
    "\n",
    "# Directed\n",
    "pos2 = nx.spring_layout(G_directed, seed=42)\n",
    "nx.draw(G_directed, pos2, ax=axes[1], with_labels=True, \n",
    "        node_color='lightgreen', node_size=500, font_size=10,\n",
    "        arrows=True, arrowsize=20)\n",
    "axes[1].set_title('Directed Network', fontweight='bold')\n",
    "\n",
    "# Weighted\n",
    "pos3 = nx.spring_layout(G_weighted, seed=42)\n",
    "weights = [G_weighted[u][v]['weight'] for u, v in G_weighted.edges()]\n",
    "nx.draw(G_weighted, pos3, ax=axes[2], with_labels=True, \n",
    "        node_color='lightcoral', node_size=500, font_size=10,\n",
    "        width=weights, edge_color='red')\n",
    "axes[2].set_title('Weighted Network', fontweight='bold')\n",
    "\n",
    "plt.tight_layout()\n",
    "plt.show()"
   ]
  },
  {
   "cell_type": "markdown",
   "metadata": {},
   "source": [
    "## 3. Basic Network Properties\n",
    "\n",
    "Let's explore fundamental network properties and metrics."
   ]
  },
  {
   "cell_type": "code",
   "execution_count": null,
   "metadata": {},
   "outputs": [],
   "source": [
    "# Create a larger example network\n",
    "G_example = nx.erdos_renyi_graph(20, 0.15, seed=42)\n",
    "\n",
    "# Basic properties\n",
    "print(\"Network Properties:\")\n",
    "print(f\"Number of nodes: {G_example.number_of_nodes()}\")\n",
    "print(f\"Number of edges: {G_example.number_of_edges()}\")\n",
    "print(f\"Density: {nx.density(G_example):.3f}\")\n",
    "print(f\"Average degree: {sum(dict(G_example.degree()).values()) / G_example.number_of_nodes():.2f}\")\n",
    "print(f\"Is connected: {nx.is_connected(G_example)}\")\n",
    "print(f\"Number of components: {nx.number_connected_components(G_example)}\")\n",
    "\n",
    "# Degree distribution\n",
    "degrees = [d for n, d in G_example.degree()]\n",
    "print(f\"\\nDegree Statistics:\")\n",
    "print(f\"Minimum degree: {min(degrees)}\")\n",
    "print(f\"Maximum degree: {max(degrees)}\")\n",
    "print(f\"Average degree: {np.mean(degrees):.2f}\")\n",
    "print(f\"Standard deviation: {np.std(degrees):.2f}\")"
   ]
  },
  {
   "cell_type": "code",
   "execution_count": null,
   "metadata": {},
   "outputs": [],
   "source": [
    "# Visualize the example network with degree information\n",
    "plt.figure(figsize=(15, 6))\n",
    "\n",
    "# Network visualization\n",
    "plt.subplot(1, 2, 1)\n",
    "pos = nx.spring_layout(G_example, seed=42)\n",
    "node_colors = [G_example.degree(node) for node in G_example.nodes()]\n",
    "\n",
    "nx.draw(G_example, pos, with_labels=True, node_color=node_colors, \n",
    "        cmap=plt.cm.Reds, node_size=500, font_size=8)\n",
    "plt.title('Example Network (Node Color = Degree)', fontweight='bold')\n",
    "\n",
    "# Degree distribution\n",
    "plt.subplot(1, 2, 2)\n",
    "plt.hist(degrees, bins=range(min(degrees), max(degrees) + 2), \n",
    "         alpha=0.7, color='skyblue', edgecolor='black')\n",
    "plt.xlabel('Degree')\n",
    "plt.ylabel('Frequency')\n",
    "plt.title('Degree Distribution')\n",
    "plt.grid(True, alpha=0.3)\n",
    "\n",
    "plt.tight_layout()\n",
    "plt.show()"
   ]
  },
  {
   "cell_type": "markdown",
   "metadata": {},
   "source": [
    "## 4. Real-World Network Examples\n",
    "\n",
    "Let's explore some famous real-world networks."
   ]
  },
  {
   "cell_type": "code",
   "execution_count": null,
   "metadata": {},
   "outputs": [],
   "source": [
    "# Load famous network datasets\n",
    "\n",
    "# 1. Karate Club Network (Zachary's karate club)\n",
    "G_karate = nx.karate_club_graph()\n",
    "\n",
    "# 2. Les Miserables Network\n",
    "G_lesmis = nx.les_miserables_graph()\n",
    "\n",
    "# 3. Florentine Families Network\n",
    "G_florentine = nx.florentine_families_graph()\n",
    "\n",
    "print(\"Famous Network Datasets:\")\n",
    "print(f\"1. Karate Club: {G_karate.number_of_nodes()} nodes, {G_karate.number_of_edges()} edges\")\n",
    "print(f\"2. Les Miserables: {G_lesmis.number_of_nodes()} nodes, {G_lesmis.number_of_edges()} edges\")\n",
    "print(f\"3. Florentine Families: {G_florentine.number_of_nodes()} nodes, {G_florentine.number_of_edges()} edges\")"
   ]
  },
  {
   "cell_type": "code",
   "execution_count": null,
   "metadata": {},
   "outputs": [],
   "source": [
    "# Visualize famous networks\n",
    "fig, axes = plt.subplots(1, 3, figsize=(18, 6))\n",
    "\n",
    "# Karate Club\n",
    "pos1 = nx.spring_layout(G_karate, seed=42)\n",
    "nx.draw(G_karate, pos1, ax=axes[0], with_labels=False, \n",
    "        node_color='lightblue', node_size=100)\n",
    "axes[0].set_title('Zachary\\'s Karate Club', fontweight='bold')\n",
    "\n",
    "# Les Miserables\n",
    "pos2 = nx.spring_layout(G_lesmis, seed=42)\n",
    "nx.draw(G_lesmis, pos2, ax=axes[1], with_labels=False, \n",
    "        node_color='lightgreen', node_size=50)\n",
    "axes[1].set_title('Les Miserables Characters', fontweight='bold')\n",
    "\n",
    "# Florentine Families\n",
    "pos3 = nx.spring_layout(G_florentine, seed=42)\n",
    "nx.draw(G_florentine, pos3, ax=axes[2], with_labels=True, \n",
    "        node_color='lightcoral', node_size=300, font_size=8)\n",
    "axes[2].set_title('Florentine Families', fontweight='bold')\n",
    "\n",
    "plt.tight_layout()\n",
    "plt.show()"
   ]
  },
  {
   "cell_type": "markdown",
   "metadata": {},
   "source": [
    "## 5. Network Applications\n",
    "\n",
    "Network science has applications in many fields."
   ]
  },
  {
   "cell_type": "code",
   "execution_count": null,
   "metadata": {},
   "outputs": [],
   "source": [
    "# Example: Social Network Analysis\n",
    "print(\"Network Science Applications:\")\n",
    "print(\"\\n1. Social Networks:\")\n",
    "print(\"   - Facebook friendship networks\")\n",
    "print(\"   - Twitter follower networks\")\n",
    "print(\"   - LinkedIn professional networks\")\n",
    "\n",
    "print(\"\\n2. Biological Networks:\")\n",
    "print(\"   - Protein-protein interaction networks\")\n",
    "print(\"   - Gene regulatory networks\")\n",
    "print(\"   - Food webs\")\n",
    "\n",
    "print(\"\\n3. Technological Networks:\")\n",
    "print(\"   - Internet topology\")\n",
    "print(\"   - Power grids\")\n",
    "print(\"   - Transportation networks\")\n",
    "\n",
    "print(\"\\n4. Information Networks:\")\n",
    "print(\"   - World Wide Web\")\n",
    "print(\"   - Citation networks\")\n",
    "print(\"   - Wikipedia link networks\")\n",
    "\n",
    "print(\"\\n5. Economic Networks:\")\n",
    "print(\"   - Trade networks\")\n",
    "print(\"   - Financial networks\")\n",
    "print(\"   - Supply chains\")"
   ]
  },
  {
   "cell_type": "markdown",
   "metadata": {},
   "source": [
    "## 6. Network Analysis Workflow\n",
    "\n",
    "A typical network analysis workflow involves several steps."
   ]
  },
  {
   "cell_type": "code",
   "execution_count": null,
   "metadata": {},
   "outputs": [],
   "source": [
    "# Demonstrate a simple network analysis workflow\n",
    "\n",
    "# Step 1: Data Collection (simulated)\n",
    "print(\"Step 1: Data Collection\")\n",
    "print(\"   - Collect node and edge data\")\n",
    "print(\"   - Clean and preprocess data\")\n",
    "print(\"   - Handle missing values\")\n",
    "\n",
    "# Step 2: Network Construction\n",
    "print(\"\\nStep 2: Network Construction\")\n",
    "print(\"   - Create network from data\")\n",
    "print(\"   - Choose appropriate network type\")\n",
    "print(\"   - Validate network structure\")\n",
    "\n",
    "# Step 3: Basic Analysis\n",
    "print(\"\\nStep 3: Basic Analysis\")\n",
    "print(\"   - Calculate network properties\")\n",
    "print(\"   - Identify key nodes\")\n",
    "print(\"   - Analyze network structure\")\n",
    "\n",
    "# Step 4: Advanced Analysis\n",
    "print(\"\\nStep 4: Advanced Analysis\")\n",
    "print(\"   - Community detection\")\n",
    "print(\"   - Centrality measures\")\n",
    "print(\"   - Network dynamics\")\n",
    "\n",
    "# Step 5: Visualization and Interpretation\n",
    "print(\"\\nStep 5: Visualization and Interpretation\")\n",
    "print(\"   - Create visualizations\")\n",
    "print(\"   - Interpret results\")\n",
    "print(\"   - Draw conclusions\")"
   ]
  },
  {
   "cell_type": "code",
   "execution_count": null,
   "metadata": {},
   "outputs": [],
   "source": [
    "# Example workflow with the Karate Club network\n",
    "print(\"\\nExample Workflow with Karate Club Network:\")\n",
    "\n",
    "# Basic properties\n",
    "print(f\"\\n1. Network Properties:\")\n",
    "print(f\"   Nodes: {G_karate.number_of_nodes()}\")\n",
    "print(f\"   Edges: {G_karate.number_of_edges()}\")\n",
    "print(f\"   Density: {nx.density(G_karate):.3f}\")\n",
    "print(f\"   Connected: {nx.is_connected(G_karate)}\")\n",
    "\n",
    "# Key nodes (highest degree)\n",
    "degrees = dict(G_karate.degree())\n",
    "top_nodes = sorted(degrees.items(), key=lambda x: x[1], reverse=True)[:5]\n",
    "print(f\"\\n2. Top 5 Nodes by Degree:\")\n",
    "for node, degree in top_nodes:\n",
    "    print(f\"   Node {node}: {degree} connections\")\n",
    "\n",
    "# Network diameter\n",
    "print(f\"\\n3. Network Diameter: {nx.diameter(G_karate)}\")\n",
    "print(f\"   Average Shortest Path: {nx.average_shortest_path_length(G_karate):.2f}\")\n",
    "\n",
    "# Clustering\n",
    "print(f\"\\n4. Clustering Coefficient: {nx.average_clustering(G_karate):.3f}\")"
   ]
  },
  {
   "cell_type": "markdown",
   "metadata": {},
   "source": [
    "## 7. Summary and Key Concepts\n",
    "\n",
    "### Key Takeaways:\n",
    "\n",
    "1. **Network Science**: Study of complex systems as networks\n",
    "2. **Nodes and Edges**: Basic building blocks of networks\n",
    "3. **Network Types**: Undirected, directed, weighted networks\n",
    "4. **Network Properties**: Density, degree distribution, connectivity\n",
    "5. **Applications**: Social, biological, technological, information networks\n",
    "6. **Analysis Workflow**: Data collection → Construction → Analysis → Visualization\n",
    "\n",
    "### Next Steps:\n",
    "- Learn about network connectivity and paths\n",
    "- Explore centrality measures\n",
    "- Study community detection\n",
    "- Understand network dynamics\n",
    "\n",
    "### Tools and Libraries:\n",
    "- **NetworkX**: Python library for network analysis\n",
    "- **Matplotlib/Plotly**: Visualization tools\n",
    "- **NumPy/Pandas**: Data manipulation\n",
    "- **Gephi**: Advanced network visualization software"
   ]
  }
 ],
 "metadata": {
  "kernelspec": {
   "display_name": "base",
   "language": "python",
   "name": "python3"
  },
  "language_info": {
   "codemirror_mode": {
    "name": "ipython",
    "version": 3
   },
   "file_extension": ".py",
   "mimetype": "text/x-python",
   "name": "python",
   "nbconvert_exporter": "python",
   "pygments_lexer": "ipython3",
   "version": "3.12.9"
  }
 },
 "nbformat": 4,
 "nbformat_minor": 4
}
