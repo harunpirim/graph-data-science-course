{
 "cells": [
  {
   "cell_type": "markdown",
   "metadata": {},
   "source": [
    "# Introduction to Network Science\n\nThis notebook provides a comprehensive introduction to network science and graph theory fundamentals.\n\n## Learning Objectives\n- Understand basic network science concepts\n- Learn graph theory fundamentals\n- Explore different types of networks\n- Analyze network properties and metrics\n- Understand real-world network applications"
   ]
  },
  {
   "cell_type": "code",
   "execution_count": null,
   "metadata": {},
   "outputs": [],
   "source": [
    "# Import required libraries\nimport networkx as nx\nimport matplotlib.pyplot as plt\nimport numpy as np\nimport pandas as pd\nimport seaborn as sns\n\n# Set style for better plots\nplt.style.use('default')\nsns.set_palette(\"husl\")\n\n# For better display in notebooks\n%matplotlib inline\nplt.rcParams['figure.figsize'] = (12, 8)\n\nprint(\"Network Science Libraries Imported Successfully!\")"
   ]
  },
  {
   "cell_type": "markdown",
   "metadata": {},
   "source": [
    "## 1. What is Network Science?\n\nNetwork Science is the study of complex systems represented as networks (graphs) where entities are nodes and relationships are edges."
   ]
  },
  {
   "cell_type": "code",
   "execution_count": null,
   "metadata": {},
   "outputs": [],
   "source": [
    "# Create a simple example network\nG_simple = nx.Graph()\n\n# Add nodes (entities)\nG_simple.add_nodes_from(['Alice', 'Bob', 'Charlie', 'Diana', 'Eve'])\n\n# Add edges (relationships)\nG_simple.add_edges_from([\n    ('Alice', 'Bob'),\n    ('Alice', 'Charlie'),\n    ('Bob', 'Charlie'),\n    ('Charlie', 'Diana'),\n    ('Diana', 'Eve'),\n    ('Eve', 'Alice')\n])\n\nprint(f\"Network: {G_simple.number_of_nodes()} nodes, {G_simple.number_of_edges()} edges\")\nprint(f\"Nodes: {list(G_simple.nodes())}\")\nprint(f\"Edges: {list(G_simple.edges())}\")"
   ]
  },
  {
   "cell_type": "code",
   "execution_count": null,
   "metadata": {},
   "outputs": [],
   "source": [
    "# Visualize the simple network\nplt.figure(figsize=(10, 8))\npos = nx.spring_layout(G_simple, seed=42)\n\nnx.draw(G_simple, pos, with_labels=True, node_color='lightblue', \n        node_size=1000, font_size=12, font_weight='bold', \n        edge_color='gray', width=2)\n\nplt.title('Simple Social Network Example', fontsize=16, fontweight='bold')\nplt.show()"
   ]
  },
  {
   "cell_type": "markdown",
   "metadata": {},
   "source": [
    "## 2. Types of Networks\n\nNetworks can be classified into different types based on their properties."
   ]
  },
  {
   "cell_type": "code",
   "execution_count": null,
   "metadata": {},
   "outputs": [],
   "source": [
    "# Create different types of networks\n\n# 1. Undirected Network (like friendship)\nG_undirected = nx.Graph()\nG_undirected.add_edges_from([(1, 2), (2, 3), (3, 1), (3, 4), (4, 5)])\n\n# 2. Directed Network (like following on social media)\nG_directed = nx.DiGraph()\nG_directed.add_edges_from([(1, 2), (2, 3), (3, 1), (3, 4), (4, 5)])\n\n# 3. Weighted Network (like communication frequency)\nG_weighted = nx.Graph()\nG_weighted.add_weighted_edges_from([\n    (1, 2, 0.8), (2, 3, 0.6), (3, 1, 0.9), \n    (3, 4, 0.3), (4, 5, 0.7)\n])\n\nprint(\"Network Types Created:\")\nprint(f\"1. Undirected: {G_undirected.number_of_nodes()} nodes, {G_undirected.number_of_edges()} edges\")\nprint(f\"2. Directed: {G_directed.number_of_nodes()} nodes, {G_directed.number_of_edges()} edges\")\nprint(f\"3. Weighted: {G_weighted.number_of_nodes()} nodes, {G_weighted.number_of_edges()} edges\")"
   ]
  },
  {
   "cell_type": "code",
   "execution_count": null,
   "metadata": {},
   "outputs": [],
   "source": [
    "# Visualize different network types\nfig, axes = plt.subplots(1, 3, figsize=(18, 6))\n\n# Undirected\npos1 = nx.spring_layout(G_undirected, seed=42)\nnx.draw(G_undirected, pos1, ax=axes[0], with_labels=True, \n        node_color='lightblue', node_size=500, font_size=10)\naxes[0].set_title('Undirected Network', fontweight='bold')\n\n# Directed\npos2 = nx.spring_layout(G_directed, seed=42)\nnx.draw(G_directed, pos2, ax=axes[1], with_labels=True, \n        node_color='lightgreen', node_size=500, font_size=10,\n        arrows=True, arrowsize=20)\naxes[1].set_title('Directed Network', fontweight='bold')\n\n# Weighted\npos3 = nx.spring_layout(G_weighted, seed=42)\nweights = [G_weighted[u][v]['weight'] for u, v in G_weighted.edges()]\nnx.draw(G_weighted, pos3, ax=axes[2], with_labels=True, \n        node_color='lightcoral', node_size=500, font_size=10,\n        width=weights, edge_color='red')\naxes[2].set_title('Weighted Network', fontweight='bold')\n\nplt.tight_layout()\nplt.show()"
   ]
  },
  {
   "cell_type": "markdown",
   "metadata": {},
   "source": [
    "## 3. Basic Network Properties\n\nLet's explore fundamental network properties and metrics."
   ]
  },
  {
   "cell_type": "code",
   "execution_count": null,
   "metadata": {},
   "outputs": [],
   "source": [
    "# Create a larger example network\nG_example = nx.erdos_renyi_graph(20, 0.15, seed=42)\n\n# Basic properties\nprint(\"Network Properties:\")\nprint(f\"Number of nodes: {G_example.number_of_nodes()}\")\nprint(f\"Number of edges: {G_example.number_of_edges()}\")\nprint(f\"Density: {nx.density(G_example):.3f}\")\nprint(f\"Average degree: {sum(dict(G_example.degree()).values()) / G_example.number_of_nodes():.2f}\")\nprint(f\"Is connected: {nx.is_connected(G_example)}\")\nprint(f\"Number of components: {nx.number_connected_components(G_example)}\")\n\n# Degree distribution\ndegrees = [d for n, d in G_example.degree()]\nprint(f\"\\nDegree Statistics:\")\nprint(f\"Minimum degree: {min(degrees)}\")\nprint(f\"Maximum degree: {max(degrees)}\")\nprint(f\"Average degree: {np.mean(degrees):.2f}\")\nprint(f\"Standard deviation: {np.std(degrees):.2f}\")"
   ]
  },
  {
   "cell_type": "code",
   "execution_count": null,
   "metadata": {},
   "outputs": [],
   "source": [
    "# Visualize the example network with degree information\nplt.figure(figsize=(15, 6))\n\n# Network visualization\nplt.subplot(1, 2, 1)\npos = nx.spring_layout(G_example, seed=42)\nnode_colors = [G_example.degree(node) for node in G_example.nodes()]\n\nnx.draw(G_example, pos, with_labels=True, node_color=node_colors, \n        cmap=plt.cm.Reds, node_size=500, font_size=8)\nplt.title('Example Network (Node Color = Degree)', fontweight='bold')\n\n# Degree distribution\nplt.subplot(1, 2, 2)\nplt.hist(degrees, bins=range(min(degrees), max(degrees) + 2), \n         alpha=0.7, color='skyblue', edgecolor='black')\nplt.xlabel('Degree')\nplt.ylabel('Frequency')\nplt.title('Degree Distribution')\nplt.grid(True, alpha=0.3)\n\nplt.tight_layout()\nplt.show()"
   ]
  },
  {
   "cell_type": "markdown",
   "metadata": {},
   "source": [
    "## 4. Real-World Network Examples\n\nLet's explore some famous real-world networks."
   ]
  },
  {
   "cell_type": "code",
   "execution_count": null,
   "metadata": {},
   "outputs": [],
   "source": [
    "# Load famous network datasets\n\n# 1. Karate Club Network (Zachary's karate club)\nG_karate = nx.karate_club_graph()\n\n# 2. Les Miserables Network\nG_lesmis = nx.les_miserables_graph()\n\n# 3. Florentine Families Network\nG_florentine = nx.florentine_families_graph()\n\nprint(\"Famous Network Datasets:\")\nprint(f\"1. Karate Club: {G_karate.number_of_nodes()} nodes, {G_karate.number_of_edges()} edges\")\nprint(f\"2. Les Miserables: {G_lesmis.number_of_nodes()} nodes, {G_lesmis.number_of_edges()} edges\")\nprint(f\"3. Florentine Families: {G_florentine.number_of_nodes()} nodes, {G_florentine.number_of_edges()} edges\")"
   ]
  },
  {
   "cell_type": "code",
   "execution_count": null,
   "metadata": {},
   "outputs": [],
   "source": [
    "# Visualize famous networks\nfig, axes = plt.subplots(1, 3, figsize=(18, 6))\n\n# Karate Club\npos1 = nx.spring_layout(G_karate, seed=42)\nnx.draw(G_karate, pos1, ax=axes[0], with_labels=False, \n        node_color='lightblue', node_size=100)\naxes[0].set_title('Zachary\\'s Karate Club', fontweight='bold')\n\n# Les Miserables\npos2 = nx.spring_layout(G_lesmis, seed=42)\nnx.draw(G_lesmis, pos2, ax=axes[1], with_labels=False, \n        node_color='lightgreen', node_size=50)\naxes[1].set_title('Les Miserables Characters', fontweight='bold')\n\n# Florentine Families\npos3 = nx.spring_layout(G_florentine, seed=42)\nnx.draw(G_florentine, pos3, ax=axes[2], with_labels=True, \n        node_color='lightcoral', node_size=300, font_size=8)\naxes[2].set_title('Florentine Families', fontweight='bold')\n\nplt.tight_layout()\nplt.show()"
   ]
  },
  {
   "cell_type": "markdown",
   "metadata": {},
   "source": [
    "## 5. Network Applications\n\nNetwork science has applications in many fields."
   ]
  },
  {
   "cell_type": "code",
   "execution_count": null,
   "metadata": {},
   "outputs": [],
   "source": [
    "# Example: Social Network Analysis\nprint(\"Network Science Applications:\")\nprint(\"\\n1. Social Networks:\")\nprint(\"   - Facebook friendship networks\")\nprint(\"   - Twitter follower networks\")\nprint(\"   - LinkedIn professional networks\")\n\nprint(\"\\n2. Biological Networks:\")\nprint(\"   - Protein-protein interaction networks\")\nprint(\"   - Gene regulatory networks\")\nprint(\"   - Food webs\")\n\nprint(\"\\n3. Technological Networks:\")\nprint(\"   - Internet topology\")\nprint(\"   - Power grids\")\nprint(\"   - Transportation networks\")\n\nprint(\"\\n4. Information Networks:\")\nprint(\"   - World Wide Web\")\nprint(\"   - Citation networks\")\nprint(\"   - Wikipedia link networks\")\n\nprint(\"\\n5. Economic Networks:\")\nprint(\"   - Trade networks\")\nprint(\"   - Financial networks\")\nprint(\"   - Supply chains\")"
   ]
  },
  {
   "cell_type": "markdown",
   "metadata": {},
   "source": [
    "## 6. Network Analysis Workflow\n\nA typical network analysis workflow involves several steps."
   ]
  },
  {
   "cell_type": "code",
   "execution_count": null,
   "metadata": {},
   "outputs": [],
   "source": [
    "# Demonstrate a simple network analysis workflow\n\n# Step 1: Data Collection (simulated)\nprint(\"Step 1: Data Collection\")\nprint(\"   - Collect node and edge data\")\nprint(\"   - Clean and preprocess data\")\nprint(\"   - Handle missing values\")\n\n# Step 2: Network Construction\nprint(\"\\nStep 2: Network Construction\")\nprint(\"   - Create network from data\")\nprint(\"   - Choose appropriate network type\")\nprint(\"   - Validate network structure\")\n\n# Step 3: Basic Analysis\nprint(\"\\nStep 3: Basic Analysis\")\nprint(\"   - Calculate network properties\")\nprint(\"   - Identify key nodes\")\nprint(\"   - Analyze network structure\")\n\n# Step 4: Advanced Analysis\nprint(\"\\nStep 4: Advanced Analysis\")\nprint(\"   - Community detection\")\nprint(\"   - Centrality measures\")\nprint(\"   - Network dynamics\")\n\n# Step 5: Visualization and Interpretation\nprint(\"\\nStep 5: Visualization and Interpretation\")\nprint(\"   - Create visualizations\")\nprint(\"   - Interpret results\")\nprint(\"   - Draw conclusions\")"
   ]
  },
  {
   "cell_type": "code",
   "execution_count": null,
   "metadata": {},
   "outputs": [],
   "source": [
    "# Example workflow with the Karate Club network\nprint(\"\\nExample Workflow with Karate Club Network:\")\n\n# Basic properties\nprint(f\"\\n1. Network Properties:\")\nprint(f\"   Nodes: {G_karate.number_of_nodes()}\")\nprint(f\"   Edges: {G_karate.number_of_edges()}\")\nprint(f\"   Density: {nx.density(G_karate):.3f}\")\nprint(f\"   Connected: {nx.is_connected(G_karate)}\")\n\n# Key nodes (highest degree)\ndegrees = dict(G_karate.degree())\ntop_nodes = sorted(degrees.items(), key=lambda x: x[1], reverse=True)[:5]\nprint(f\"\\n2. Top 5 Nodes by Degree:\")\nfor node, degree in top_nodes:\n    print(f\"   Node {node}: {degree} connections\")\n\n# Network diameter\nprint(f\"\\n3. Network Diameter: {nx.diameter(G_karate)}\")\nprint(f\"   Average Shortest Path: {nx.average_shortest_path_length(G_karate):.2f}\")\n\n# Clustering\nprint(f\"\\n4. Clustering Coefficient: {nx.average_clustering(G_karate):.3f}\")"
   ]
  },
  {
   "cell_type": "markdown",
   "metadata": {},
   "source": [
    "## 7. Summary and Key Concepts\n\n### Key Takeaways:\n\n1. **Network Science**: Study of complex systems as networks\n2. **Nodes and Edges**: Basic building blocks of networks\n3. **Network Types**: Undirected, directed, weighted networks\n4. **Network Properties**: Density, degree distribution, connectivity\n5. **Applications**: Social, biological, technological, information networks\n6. **Analysis Workflow**: Data collection \u2192 Construction \u2192 Analysis \u2192 Visualization\n\n### Next Steps:\n- Learn about network connectivity and paths\n- Explore centrality measures\n- Study community detection\n- Understand network dynamics\n\n### Tools and Libraries:\n- **NetworkX**: Python library for network analysis\n- **Matplotlib/Plotly**: Visualization tools\n- **NumPy/Pandas**: Data manipulation\n- **Gephi**: Advanced network visualization software"
   ]
  }
 ],
 "metadata": {
  "kernelspec": {
   "display_name": "Python 3",
   "language": "python",
   "name": "python3"
  },
  "language_info": {
   "codemirror_mode": {
    "name": "ipython",
    "version": 3
   },
   "file_extension": ".py",
   "mimetype": "text/x-python",
   "name": "python",
   "nbconvert_exporter": "python",
   "pygments_lexer": "ipython3",
   "version": "3.8.5"
  }
 },
 "nbformat": 4,
 "nbformat_minor": 4
}