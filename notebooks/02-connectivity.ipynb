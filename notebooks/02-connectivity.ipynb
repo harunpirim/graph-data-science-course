{
 "cells": [
  {
   "cell_type": "markdown",
   "metadata": {},
   "source": [
    "# Network Connectivity\n",
    "\n",
    "This notebook demonstrates network connectivity analysis using NetworkX.\n",
    "\n",
    "## Learning Objectives\n",
    "- Understand walks, paths, and connected components\n",
    "- Analyze network connectivity measures\n",
    "- Study giant component analysis\n",
    "- Explore assortativity and degree correlations"
   ]
  },
  {
   "cell_type": "code",
   "execution_count": null,
   "metadata": {},
   "outputs": [],
   "source": [
    "# Import required libraries\n",
    "import networkx as nx\n",
    "import matplotlib.pyplot as plt\n",
    "import numpy as np\n",
    "import pandas as pd\n",
    "import seaborn as sns\n",
    "\n",
    "# Set style for better plots\n",
    "plt.style.use('default')\n",
    "sns.set_palette(\"husl\")\n",
    "\n",
    "# For better display in notebooks\n",
    "%matplotlib inline\n",
    "plt.rcParams['figure.figsize'] = (12, 8)"
   ]
  },
  {
   "cell_type": "markdown",
   "metadata": {},
   "source": [
    "## 1. Walks and Paths\n",
    "\n",
    "Let's start by understanding the difference between walks and paths in networks."
   ]
  },
  {
   "cell_type": "code",
   "execution_count": null,
   "metadata": {},
   "outputs": [],
   "source": [
    "# Create a simple graph to demonstrate walks and paths\n",
    "G = nx.Graph()\n",
    "edges = [(1, 2), (2, 3), (3, 4), (4, 5), (5, 1), (2, 4)]\n",
    "G.add_edges_from(edges)\n",
    "\n",
    "print(f\"Graph: {G.number_of_nodes()} nodes, {G.number_of_edges()} edges\")\n",
    "\n",
    "# Find all simple paths between nodes 1 and 5\n",
    "paths = list(nx.all_simple_paths(G, 1, 5))\n",
    "print(f\"\\nAll simple paths from node 1 to node 5:\")\n",
    "for i, path in enumerate(paths, 1):\n",
    "    print(f\"Path {i}: {path}\")\n",
    "\n",
    "# Find shortest path\n",
    "shortest_path = nx.shortest_path(G, 1, 5)\n",
    "print(f\"\\nShortest path from node 1 to node 5: {shortest_path}\")\n",
    "print(f\"Shortest path length: {len(shortest_path) - 1}\")"
   ]
  },
  {
   "cell_type": "code",
   "execution_count": null,
   "metadata": {},
   "outputs": [],
   "source": [
    "# Visualize the graph with the shortest path highlighted\n",
    "plt.figure(figsize=(10, 8))\n",
    "pos = nx.spring_layout(G, seed=42)\n",
    "\n",
    "# Draw the graph\n",
    "nx.draw(G, pos, with_labels=True, node_color='lightblue', \n",
    "        node_size=500, font_size=12, font_weight='bold')\n",
    "\n",
    "# Highlight the shortest path\n",
    "path_edges = list(zip(shortest_path[:-1], shortest_path[1:]))\n",
    "nx.draw_networkx_edges(G, pos, edgelist=path_edges, edge_color='red', \n",
    "                        width=3, alpha=0.7)\n",
    "\n",
    "plt.title('Graph with Shortest Path Highlighted', fontsize=14, fontweight='bold')\n",
    "plt.show()"
   ]
  },
  {
   "cell_type": "markdown",
   "metadata": {},
   "source": [
    "## 2. Connected Components\n",
    "\n",
    "Let's analyze connected components in networks."
   ]
  },
  {
   "cell_type": "code",
   "execution_count": null,
   "metadata": {},
   "outputs": [],
   "source": [
    "# Create a graph with multiple components\n",
    "G_multi = nx.Graph()\n",
    "edges_multi = [(1, 2), (2, 3), (3, 1),  # Component 1\n",
    "               (4, 5), (5, 6), (6, 4),  # Component 2\n",
    "               (7, 8), (8, 9), (9, 7)]  # Component 3\n",
    "G_multi.add_edges_from(edges_multi)\n",
    "\n",
    "# Find connected components\n",
    "components = list(nx.connected_components(G_multi))\n",
    "print(f\"Number of connected components: {len(components)}\")\n",
    "print(f\"\\nComponents:\")\n",
    "for i, component in enumerate(components, 1):\n",
    "    print(f\"Component {i}: {sorted(component)}\")\n",
    "    print(f\"  Size: {len(component)} nodes\")\n",
    "\n",
    "# Check if graph is connected\n",
    "print(f\"\\nIs the graph connected? {nx.is_connected(G_multi)}\")\n",
    "\n",
    "# Find the largest connected component (giant component)\n",
    "giant_component = max(components, key=len)\n",
    "print(f\"\\nGiant component: {sorted(giant_component)}\")\n",
    "print(f\"Giant component size: {len(giant_component)} nodes\")"
   ]
  },
  {
   "cell_type": "code",
   "execution_count": null,
   "metadata": {},
   "outputs": [],
   "source": [
    "# Visualize the multi-component graph\n",
    "plt.figure(figsize=(12, 8))\n",
    "pos = nx.spring_layout(G_multi, seed=42)\n",
    "\n",
    "# Color nodes by component\n",
    "colors = []\n",
    "for node in G_multi.nodes():\n",
    "    for i, component in enumerate(components):\n",
    "        if node in component:\n",
    "            colors.append(i)\n",
    "            break\n",
    "\n",
    "nx.draw(G_multi, pos, with_labels=True, node_color=colors, \n",
    "        cmap=plt.cm.Set3, node_size=500, font_size=12, font_weight='bold')\n",
    "\n",
    "plt.title('Multi-Component Graph', fontsize=14, fontweight='bold')\n",
    "plt.show()"
   ]
  },
  {
   "cell_type": "markdown",
   "metadata": {},
   "source": [
    "## 3. Node and Edge Connectivity\n",
    "\n",
    "Let's analyze the connectivity of networks."
   ]
  },
  {
   "cell_type": "code",
   "execution_count": null,
   "metadata": {},
   "outputs": [],
   "source": [
    "# Create a more complex graph for connectivity analysis\n",
    "G_connect = nx.Graph()\n",
    "edges_connect = [(1, 2), (2, 3), (3, 4), (4, 5), (5, 1),  # Main cycle\n",
    "                 (2, 6), (6, 7), (7, 8), (8, 3),  # Bridge\n",
    "                 (9, 10), (10, 11), (11, 9)]  # Separate component\n",
    "G_connect.add_edges_from(edges_connect)\n",
    "\n",
    "print(f\"Graph: {G_connect.number_of_nodes()} nodes, {G_connect.number_of_edges()} edges\")\n",
    "\n",
    "# Node connectivity\n",
    "node_connectivity = nx.node_connectivity(G_connect)\n",
    "print(f\"\\nNode connectivity: {node_connectivity}\")\n",
    "\n",
    "# Edge connectivity\n",
    "edge_connectivity = nx.edge_connectivity(G_connect)\n",
    "print(f\"Edge connectivity: {edge_connectivity}\")\n",
    "\n",
    "# Find articulation points (cut vertices)\n",
    "articulation_points = list(nx.articulation_points(G_connect))\n",
    "print(f\"\\nArticulation points: {articulation_points}\")\n",
    "\n",
    "# Find bridges\n",
    "bridges = list(nx.bridges(G_connect))\n",
    "print(f\"Bridges: {bridges}\")"
   ]
  },
  {
   "cell_type": "markdown",
   "metadata": {},
   "source": [
    "## 4. Giant Component Analysis\n",
    "\n",
    "Let's study the emergence of giant components in random networks."
   ]
  },
  {
   "cell_type": "code",
   "execution_count": null,
   "metadata": {},
   "outputs": [],
   "source": [
    "# Simulate giant component emergence\n",
    "def analyze_giant_component(n_nodes, p_values):\n",
    "    \"\"\"Analyze giant component size for different edge probabilities\"\"\"\n",
    "    results = []\n",
    "    \n",
    "    for p in p_values:\n",
    "        # Create random graph\n",
    "        G_rand = nx.erdos_renyi_graph(n_nodes, p)\n",
    "        \n",
    "        # Find largest component\n",
    "        components = list(nx.connected_components(G_rand))\n",
    "        if components:\n",
    "            largest_component_size = max(len(comp) for comp in components)\n",
    "            giant_component_fraction = largest_component_size / n_nodes\n",
    "        else:\n",
    "            giant_component_fraction = 0\n",
    "        \n",
    "        results.append({\n",
    "            'p': p,\n",
    "            'giant_component_fraction': giant_component_fraction,\n",
    "            'n_components': len(components)\n",
    "        })\n",
    "    \n",
    "    return results\n",
    "\n",
    "# Test different edge probabilities\n",
    "n_nodes = 100\n",
    "p_values = np.linspace(0.001, 0.1, 20)\n",
    "results = analyze_giant_component(n_nodes, p_values)\n",
    "\n",
    "# Create DataFrame\n",
    "df_results = pd.DataFrame(results)\n",
    "print(\"Giant Component Analysis Results:\")\n",
    "print(df_results.head(10))"
   ]
  },
  {
   "cell_type": "code",
   "execution_count": null,
   "metadata": {},
   "outputs": [],
   "source": [
    "# Plot giant component emergence\n",
    "plt.figure(figsize=(12, 8))\n",
    "\n",
    "plt.subplot(2, 1, 1)\n",
    "plt.plot(df_results['p'], df_results['giant_component_fraction'], 'bo-')\n",
    "plt.xlabel('Edge Probability (p)')\n",
    "plt.ylabel('Giant Component Fraction')\n",
    "plt.title('Giant Component Emergence')\n",
    "plt.grid(True, alpha=0.3)\n",
    "\n",
    "plt.subplot(2, 1, 2)\n",
    "plt.plot(df_results['p'], df_results['n_components'], 'ro-')\n",
    "plt.xlabel('Edge Probability (p)')\n",
    "plt.ylabel('Number of Components')\n",
    "plt.title('Number of Connected Components')\n",
    "plt.grid(True, alpha=0.3)\n",
    "\n",
    "plt.tight_layout()\n",
    "plt.show()"
   ]
  },
  {
   "cell_type": "markdown",
   "metadata": {},
   "source": [
    "## 5. Assortativity Analysis\n",
    "\n",
    "Let's analyze degree assortativity in networks."
   ]
  },
  {
   "cell_type": "code",
   "execution_count": null,
   "metadata": {},
   "outputs": [],
   "source": [
    "# Load a real network for assortativity analysis\n",
    "G_real = nx.les_miserables_graph()\n",
    "print(f\"Les Miserables network: {G_real.number_of_nodes()} nodes, {G_real.number_of_edges()} edges\")\n",
    "\n",
    "# Calculate degree assortativity\n",
    "assortativity = nx.degree_assortativity_coefficient(G_real)\n",
    "print(f\"\\nDegree assortativity: {assortativity:.4f}\")\n",
    "\n",
    "# Interpret the result\n",
    "if assortativity > 0:\n",
    "    print(\"The network is assortative (high-degree nodes connect to high-degree nodes)\")\n",
    "elif assortativity < 0:\n",
    "    print(\"The network is disassortative (high-degree nodes connect to low-degree nodes)\")\n",
    "else:\n",
    "    print(\"The network shows no degree correlation\")\n",
    "\n",
    "# Calculate degree distribution\n",
    "degrees = [d for n, d in G_real.degree()]\n",
    "print(f\"\\nDegree statistics:\")\n",
    "print(f\"Mean degree: {np.mean(degrees):.2f}\")\n",
    "print(f\"Standard deviation: {np.std(degrees):.2f}\")\n",
    "print(f\"Minimum degree: {min(degrees)}\")\n",
    "print(f\"Maximum degree: {max(degrees)}\")"
   ]
  },
  {
   "cell_type": "code",
   "execution_count": null,
   "metadata": {},
   "outputs": [],
   "source": [
    "# Visualize degree distribution and assortativity\n",
    "fig, (ax1, ax2) = plt.subplots(1, 2, figsize=(15, 6))\n",
    "\n",
    "# Degree distribution\n",
    "ax1.hist(degrees, bins=20, alpha=0.7, color='skyblue', edgecolor='black')\n",
    "ax1.set_xlabel('Degree')\n",
    "ax1.set_ylabel('Frequency')\n",
    "ax1.set_title('Degree Distribution')\n",
    "ax1.grid(True, alpha=0.3)\n",
    "\n",
    "# Degree-degree correlation\n",
    "degrees_array = np.array(degrees)\n",
    "ax2.scatter(degrees_array[:-1], degrees_array[1:], alpha=0.6, color='red')\n",
    "ax2.set_xlabel('Degree of Node i')\n",
    "ax2.set_ylabel('Degree of Node i+1')\n",
    "ax2.set_title('Degree-Degree Correlation')\n",
    "ax2.grid(True, alpha=0.3)\n",
    "\n",
    "plt.tight_layout()\n",
    "plt.show()"
   ]
  },
  {
   "cell_type": "markdown",
   "metadata": {},
   "source": [
    "## 6. Summary and Key Insights\n",
    "\n",
    "### Key Takeaways:\n",
    "\n",
    "1. **Walks vs Paths**: Walks can repeat nodes, paths cannot\n",
    "2. **Connected Components**: Groups of nodes that can reach each other\n",
    "3. **Giant Component**: The largest connected component in a network\n",
    "4. **Connectivity Measures**: Node and edge connectivity indicate network robustness\n",
    "5. **Assortativity**: Measures degree correlation between connected nodes\n",
    "\n",
    "### Applications:\n",
    "- **Social Networks**: Understanding community structure\n",
    "- **Infrastructure**: Analyzing network resilience\n",
    "- **Biological Networks**: Studying functional modules\n",
    "- **Information Networks**: Understanding information flow"
   ]
  }
 ],
 "metadata": {
  "kernelspec": {
   "display_name": "Python 3",
   "language": "python",
   "name": "python3"
  },
  "language_info": {
   "codemirror_mode": {
    "name": "ipython",
    "version": 3
   },
   "file_extension": ".py",
   "mimetype": "text/x-python",
   "name": "python",
   "nbconvert_exporter": "python",
   "pygments_lexer": "ipython3",
   "version": "3.8.5"
  }
 },
 "nbformat": 4,
 "nbformat_minor": 4
}