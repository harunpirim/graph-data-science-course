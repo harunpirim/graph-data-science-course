{
 "cells": [
  {
   "cell_type": "markdown",
   "metadata": {},
   "source": [
    "\n"
   ]
  },
  {
   "cell_type": "code",
   "execution_count": null,
   "metadata": {},
   "outputs": [],
   "source": [
    "\n"
   ]
  },
  {
   "cell_type": "markdown",
   "metadata": {},
   "source": [
    "\n"
   ]
  },
  {
   "cell_type": "markdown",
   "metadata": {},
   "source": [
    "# Multilayer Networks\n",
    "\n",
    "This notebook demonstrates analysis of multilayer networks and temporal networks.\n",
    "\n",
    "## Learning Objectives\n",
    "- Understand multilayer network structure\n",
    "- Analyze temporal networks\n",
    "- Study multiplex networks\n",
    "- Implement multilayer centrality measures"
   ]
  },
  {
   "cell_type": "code",
   "execution_count": null,
   "metadata": {},
   "outputs": [],
   "source": [
    "import networkx as nx\n",
    "import matplotlib.pyplot as plt\n",
    "import numpy as np\n",
    "import pandas as pd\n",
    "from collections import defaultdict\n",
    "\n",
    "%matplotlib inline\n",
    "plt.rcParams['figure.figsize'] = (12, 8)"
   ]
  },
  {
   "cell_type": "markdown",
   "metadata": {},
   "source": [
    "## 1. Creating Multilayer Networks\n",
    "\n",
    "Build and analyze multilayer networks."
   ]
  },
  {
   "cell_type": "code",
   "execution_count": null,
   "metadata": {},
   "outputs": [],
   "source": [
    "class MultilayerNetwork:\n",
    "    def __init__(self):\n",
    "        self.layers = {}\n",
    "        self.interlayer_edges = defaultdict(list)\n",
    "    \n",
    "    def add_layer(self, layer_name, graph):\n",
    "        \"\"\"Add a layer to the multilayer network\"\"\"\n",
    "        self.layers[layer_name] = graph\n",
    "    \n",
    "    def add_interlayer_edge(self, layer1, node1, layer2, node2, weight=1):\n",
    "        \"\"\"Add an interlayer edge\"\"\"\n",
    "        self.interlayer_edges[(layer1, layer2)].append((node1, node2, weight))\n",
    "    \n",
    "    def get_supra_adjacency_matrix(self):\n",
    "        \"\"\"Get the supra-adjacency matrix\"\"\"\n",
    "        # Implementation would go here\n",
    "        pass\n",
    "\n",
    "# Create a simple multilayer network\n",
    "ml_network = MultilayerNetwork()\n",
    "\n",
    "# Layer 1: Social network\n",
    "social_G = nx.erdos_renyi_graph(10, 0.3)\n",
    "nx.set_node_attributes(social_G, 'social', 'layer')\n",
    "ml_network.add_layer('social', social_G)\n",
    "\n",
    "# Layer 2: Communication network\n",
    "comm_G = nx.erdos_renyi_graph(10, 0.4)\n",
    "nx.set_node_attributes(comm_G, 'communication', 'layer')\n",
    "ml_network.add_layer('communication', comm_G)\n",
    "\n",
    "print(f\"Multilayer network created with {len(ml_network.layers)} layers\")\n",
    "print(f\"Layer 1 (Social): {social_G.number_of_nodes()} nodes, {social_G.number_of_edges()} edges\")\n",
    "print(f\"Layer 2 (Communication): {comm_G.number_of_nodes()} nodes, {comm_G.number_of_edges()} edges\")"
   ]
  },
  {
   "cell_type": "code",
   "execution_count": null,
   "metadata": {},
   "outputs": [],
   "source": [
    "# Visualize the multilayer network\n",
    "fig, (ax1, ax2) = plt.subplots(1, 2, figsize=(15, 6))\n",
    "\n",
    "# Social layer\n",
    "pos1 = nx.spring_layout(social_G, seed=42)\n",
    "nx.draw(social_G, pos1, ax=ax1, with_labels=True, node_color='lightblue', \n",
    "        node_size=500, font_size=10)\n",
    "ax1.set_title('Social Network Layer')\n",
    "\n",
    "# Communication layer\n",
    "pos2 = nx.spring_layout(comm_G, seed=42)\n",
    "nx.draw(comm_G, pos2, ax=ax2, with_labels=True, node_color='lightgreen', \n",
    "        node_size=500, font_size=10)\n",
    "ax2.set_title('Communication Network Layer')\n",
    "\n",
    "plt.tight_layout()\n",
    "plt.show()"
   ]
  },
  {
   "cell_type": "markdown",
   "metadata": {},
   "source": [
    "## 2. Temporal Networks\n",
    "\n",
    "Analyze networks that evolve over time."
   ]
  },
  {
   "cell_type": "code",
   "execution_count": null,
   "metadata": {},
   "outputs": [],
   "source": [
    "class TemporalNetwork:\n",
    "    def __init__(self):\n",
    "        self.snapshots = {}\n",
    "    \n",
    "    def add_snapshot(self, time, graph):\n",
    "        \"\"\"Add a network snapshot at a given time\"\"\"\n",
    "        self.snapshots[time] = graph\n",
    "    \n",
    "    def get_evolution_metrics(self):\n",
    "        \"\"\"Calculate evolution metrics\"\"\"\n",
    "        metrics = []\n",
    "        for time in sorted(self.snapshots.keys()):\n",
    "            G = self.snapshots[time]\n",
    "            metrics.append({\n",
    "                'time': time,\n",
    "                'nodes': G.number_of_nodes(),\n",
    "                'edges': G.number_of_edges(),\n",
    "                'density': nx.density(G),\n",
    "                'avg_clustering': nx.average_clustering(G)\n",
    "            })\n",
    "        return pd.DataFrame(metrics)\n",
    "\n",
    "# Create a temporal network\n",
    "temp_network = TemporalNetwork()\n",
    "\n",
    "# Generate evolving network\n",
    "for t in range(5):\n",
    "    # Start with small network and grow\n",
    "    n_nodes = 5 + t * 2\n",
    "    p = 0.3 + t * 0.1  # Increasing density\n",
    "    G_temp = nx.erdos_renyi_graph(n_nodes, p)\n",
    "    temp_network.add_snapshot(t, G_temp)\n",
    "\n",
    "# Analyze evolution\n",
    "evolution = temp_network.get_evolution_metrics()\n",
    "print(\"Temporal Network Evolution:\")\n",
    "print(evolution)"
   ]
  },
  {
   "cell_type": "code",
   "execution_count": null,
   "metadata": {},
   "outputs": [],
   "source": [
    "# Plot evolution\n",
    "fig, axes = plt.subplots(2, 2, figsize=(15, 10))\n",
    "\n",
    "# Nodes over time\n",
    "axes[0,0].plot(evolution['time'], evolution['nodes'], 'bo-')\n",
    "axes[0,0].set_xlabel('Time')\n",
    "axes[0,0].set_ylabel('Number of Nodes')\n",
    "axes[0,0].set_title('Network Growth')\n",
    "axes[0,0].grid(True, alpha=0.3)\n",
    "\n",
    "# Edges over time\n",
    "axes[0,1].plot(evolution['time'], evolution['edges'], 'ro-')\n",
    "axes[0,1].set_xlabel('Time')\n",
    "axes[0,1].set_ylabel('Number of Edges')\n",
    "axes[0,1].set_title('Edge Evolution')\n",
    "axes[0,1].grid(True, alpha=0.3)\n",
    "\n",
    "# Density over time\n",
    "axes[1,0].plot(evolution['time'], evolution['density'], 'go-')\n",
    "axes[1,0].set_xlabel('Time')\n",
    "axes[1,0].set_ylabel('Density')\n",
    "axes[1,0].set_title('Network Density')\n",
    "axes[1,0].grid(True, alpha=0.3)\n",
    "\n",
    "# Clustering over time\n",
    "axes[1,1].plot(evolution['time'], evolution['avg_clustering'], 'mo-')\n",
    "axes[1,1].set_xlabel('Time')\n",
    "axes[1,1].set_ylabel('Average Clustering')\n",
    "axes[1,1].set_title('Clustering Evolution')\n",
    "axes[1,1].grid(True, alpha=0.3)\n",
    "\n",
    "plt.tight_layout()\n",
    "plt.show()"
   ]
  }
 ],
 "metadata": {
  "kernelspec": {
   "display_name": "Python 3",
   "language": "python",
   "name": "python3"
  },
  "language_info": {
   "codemirror_mode": {
    "name": "ipython",
    "version": 3
   },
   "file_extension": ".py",
   "mimetype": "text/x-python",
   "name": "python",
   "nbconvert_exporter": "python",
   "pygments_lexer": "ipython3",
   "version": "3.8.5"
  }
 },
 "nbformat": 4,
 "nbformat_minor": 4
}
