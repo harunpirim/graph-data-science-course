{
 "cells": [
  {
   "cell_type": "markdown",
   "metadata": {},
   "source": [
    "# Multilayer Networks\n\nThis notebook demonstrates analysis of multilayer networks and temporal networks.\n\n## Learning Objectives\n- Understand multilayer network structure\n- Analyze temporal networks\n- Study multiplex networks\n- Implement multilayer centrality measures"
   ]
  },
  {
   "cell_type": "code",
   "execution_count": null,
   "metadata": {},
   "outputs": [],
   "source": [
    "import networkx as nx\nimport matplotlib.pyplot as plt\nimport numpy as np\nimport pandas as pd\nfrom collections import defaultdict\n\n%matplotlib inline\nplt.rcParams['figure.figsize'] = (12, 8)"
   ]
  },
  {
   "cell_type": "markdown",
   "metadata": {},
   "source": [
    "## 1. Creating Multilayer Networks\n\nBuild and analyze multilayer networks."
   ]
  },
  {
   "cell_type": "code",
   "execution_count": null,
   "metadata": {},
   "outputs": [],
   "source": [
    "class MultilayerNetwork:\n    def __init__(self):\n        self.layers = {}\n        self.interlayer_edges = defaultdict(list)\n    \n    def add_layer(self, layer_name, graph):\n        \"\"\"Add a layer to the multilayer network\"\"\"\n        self.layers[layer_name] = graph\n    \n    def add_interlayer_edge(self, layer1, node1, layer2, node2, weight=1):\n        \"\"\"Add an interlayer edge\"\"\"\n        self.interlayer_edges[(layer1, layer2)].append((node1, node2, weight))\n    \n    def get_supra_adjacency_matrix(self):\n        \"\"\"Get the supra-adjacency matrix\"\"\"\n        # Implementation would go here\n        pass\n\n# Create a simple multilayer network\nml_network = MultilayerNetwork()\n\n# Layer 1: Social network\nsocial_G = nx.erdos_renyi_graph(10, 0.3)\nnx.set_node_attributes(social_G, 'social', 'layer')\nml_network.add_layer('social', social_G)\n\n# Layer 2: Communication network\ncomm_G = nx.erdos_renyi_graph(10, 0.4)\nnx.set_node_attributes(comm_G, 'communication', 'layer')\nml_network.add_layer('communication', comm_G)\n\nprint(f\"Multilayer network created with {len(ml_network.layers)} layers\")\nprint(f\"Layer 1 (Social): {social_G.number_of_nodes()} nodes, {social_G.number_of_edges()} edges\")\nprint(f\"Layer 2 (Communication): {comm_G.number_of_nodes()} nodes, {comm_G.number_of_edges()} edges\")"
   ]
  },
  {
   "cell_type": "code",
   "execution_count": null,
   "metadata": {},
   "outputs": [],
   "source": [
    "# Visualize the multilayer network\nfig, (ax1, ax2) = plt.subplots(1, 2, figsize=(15, 6))\n\n# Social layer\npos1 = nx.spring_layout(social_G, seed=42)\nnx.draw(social_G, pos1, ax=ax1, with_labels=True, node_color='lightblue', \n        node_size=500, font_size=10)\nax1.set_title('Social Network Layer')\n\n# Communication layer\npos2 = nx.spring_layout(comm_G, seed=42)\nnx.draw(comm_G, pos2, ax=ax2, with_labels=True, node_color='lightgreen', \n        node_size=500, font_size=10)\nax2.set_title('Communication Network Layer')\n\nplt.tight_layout()\nplt.show()"
   ]
  },
  {
   "cell_type": "markdown",
   "metadata": {},
   "source": [
    "## 2. Temporal Networks\n\nAnalyze networks that evolve over time."
   ]
  },
  {
   "cell_type": "code",
   "execution_count": null,
   "metadata": {},
   "outputs": [],
   "source": [
    "class TemporalNetwork:\n    def __init__(self):\n        self.snapshots = {}\n    \n    def add_snapshot(self, time, graph):\n        \"\"\"Add a network snapshot at a given time\"\"\"\n        self.snapshots[time] = graph\n    \n    def get_evolution_metrics(self):\n        \"\"\"Calculate evolution metrics\"\"\"\n        metrics = []\n        for time in sorted(self.snapshots.keys()):\n            G = self.snapshots[time]\n            metrics.append({\n                'time': time,\n                'nodes': G.number_of_nodes(),\n                'edges': G.number_of_edges(),\n                'density': nx.density(G),\n                'avg_clustering': nx.average_clustering(G)\n            })\n        return pd.DataFrame(metrics)\n\n# Create a temporal network\ntemp_network = TemporalNetwork()\n\n# Generate evolving network\nfor t in range(5):\n    # Start with small network and grow\n    n_nodes = 5 + t * 2\n    p = 0.3 + t * 0.1  # Increasing density\n    G_temp = nx.erdos_renyi_graph(n_nodes, p)\n    temp_network.add_snapshot(t, G_temp)\n\n# Analyze evolution\nevolution = temp_network.get_evolution_metrics()\nprint(\"Temporal Network Evolution:\")\nprint(evolution)"
   ]
  },
  {
   "cell_type": "code",
   "execution_count": null,
   "metadata": {},
   "outputs": [],
   "source": [
    "# Plot evolution\nfig, axes = plt.subplots(2, 2, figsize=(15, 10))\n\n# Nodes over time\naxes[0,0].plot(evolution['time'], evolution['nodes'], 'bo-')\naxes[0,0].set_xlabel('Time')\naxes[0,0].set_ylabel('Number of Nodes')\naxes[0,0].set_title('Network Growth')\naxes[0,0].grid(True, alpha=0.3)\n\n# Edges over time\naxes[0,1].plot(evolution['time'], evolution['edges'], 'ro-')\naxes[0,1].set_xlabel('Time')\naxes[0,1].set_ylabel('Number of Edges')\naxes[0,1].set_title('Edge Evolution')\naxes[0,1].grid(True, alpha=0.3)\n\n# Density over time\naxes[1,0].plot(evolution['time'], evolution['density'], 'go-')\naxes[1,0].set_xlabel('Time')\naxes[1,0].set_ylabel('Density')\naxes[1,0].set_title('Network Density')\naxes[1,0].grid(True, alpha=0.3)\n\n# Clustering over time\naxes[1,1].plot(evolution['time'], evolution['avg_clustering'], 'mo-')\naxes[1,1].set_xlabel('Time')\naxes[1,1].set_ylabel('Average Clustering')\naxes[1,1].set_title('Clustering Evolution')\naxes[1,1].grid(True, alpha=0.3)\n\nplt.tight_layout()\nplt.show()"
   ]
  }
 ],
 "metadata": {
  "kernelspec": {
   "display_name": "Python 3",
   "language": "python",
   "name": "python3"
  },
  "language_info": {
   "codemirror_mode": {
    "name": "ipython",
    "version": 3
   },
   "file_extension": ".py",
   "mimetype": "text/x-python",
   "name": "python",
   "nbconvert_exporter": "python",
   "pygments_lexer": "ipython3",
   "version": "3.8.5"
  }
 },
 "nbformat": 4,
 "nbformat_minor": 4
}