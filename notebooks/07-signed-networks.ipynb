{
 "cells": [
  {
   "cell_type": "markdown",
   "metadata": {},
   "source": [
    "# Signed Networks\n\nThis notebook demonstrates analysis of signed networks with positive and negative edges.\n\n## Learning Objectives\n- Understand signed network structure\n- Analyze balance theory\n- Study signed centrality measures\n- Implement community detection in signed networks"
   ]
  },
  {
   "cell_type": "code",
   "execution_count": null,
   "metadata": {},
   "outputs": [],
   "source": [
    "import networkx as nx\nimport matplotlib.pyplot as plt\nimport numpy as np\nimport pandas as pd\n\n%matplotlib inline\nplt.rcParams['figure.figsize'] = (12, 8)"
   ]
  },
  {
   "cell_type": "markdown",
   "metadata": {},
   "source": [
    "## 1. Creating Signed Networks\n\nBuild and analyze networks with positive and negative edges."
   ]
  },
  {
   "cell_type": "code",
   "execution_count": null,
   "metadata": {},
   "outputs": [],
   "source": [
    "# Create a signed network\nG_signed = nx.Graph()\n\n# Add nodes\nnodes = list(range(1, 7))\nG_signed.add_nodes_from(nodes)\n\n# Add edges with signs\npositive_edges = [(1, 2), (2, 3), (3, 4), (4, 5), (5, 6)]\nnegative_edges = [(1, 3), (2, 4), (3, 5), (4, 6)]\n\n# Add positive edges\nfor edge in positive_edges:\n    G_signed.add_edge(edge[0], edge[1], sign=1)\n\n# Add negative edges\nfor edge in negative_edges:\n    G_signed.add_edge(edge[0], edge[1], sign=-1)\n\nprint(f\"Signed network: {G_signed.number_of_nodes()} nodes, {G_signed.number_of_edges()} edges\")\nprint(f\"Positive edges: {len(positive_edges)}\")\nprint(f\"Negative edges: {len(negative_edges)}\")"
   ]
  },
  {
   "cell_type": "code",
   "execution_count": null,
   "metadata": {},
   "outputs": [],
   "source": [
    "# Visualize signed network\npos = nx.spring_layout(G_signed, seed=42)\n\n# Separate positive and negative edges\npositive_edges = [(u, v) for (u, v, d) in G_signed.edges(data=True) if d['sign'] == 1]\nnegative_edges = [(u, v) for (u, v, d) in G_signed.edges(data=True) if d['sign'] == -1]\n\nplt.figure(figsize=(10, 8))\n\n# Draw nodes\nnx.draw_networkx_nodes(G_signed, pos, node_color='lightblue', node_size=500)\n\n# Draw positive edges (solid lines)\nnx.draw_networkx_edges(G_signed, pos, edgelist=positive_edges, \n                        edge_color='green', width=2, style='solid')\n\n# Draw negative edges (dashed lines)\nnx.draw_networkx_edges(G_signed, pos, edgelist=negative_edges, \n                        edge_color='red', width=2, style='dashed')\n\n# Draw labels\nnx.draw_networkx_labels(G_signed, pos, font_size=12, font_weight='bold')\n\nplt.title('Signed Network (Green=Positive, Red=Negative)')\nplt.show()"
   ]
  },
  {
   "cell_type": "markdown",
   "metadata": {},
   "source": [
    "## 2. Balance Theory Analysis\n\nAnalyze structural balance in signed networks."
   ]
  },
  {
   "cell_type": "code",
   "execution_count": null,
   "metadata": {},
   "outputs": [],
   "source": [
    "def check_balance(G):\n    \"\"\"Check structural balance of triangles\"\"\"\n    triangles = list(nx.enumerate_all_cliques(G))\n    triangles = [t for t in triangles if len(t) == 3]\n    \n    balanced_triangles = 0\n    total_triangles = len(triangles)\n    \n    for triangle in triangles:\n        signs = []\n        for i in range(3):\n            for j in range(i+1, 3):\n                if G.has_edge(triangle[i], triangle[j]):\n                    signs.append(G[triangle[i]][triangle[j]]['sign'])\n        \n        # Check if triangle is balanced (product of signs is positive)\n        if len(signs) == 3 and np.prod(signs) > 0:\n            balanced_triangles += 1\n    \n    return balanced_triangles, total_triangles\n\n# Analyze balance\nbalanced, total = check_balance(G_signed)\nbalance_ratio = balanced / total if total > 0 else 0\n\nprint(f\"Balance Analysis:\")\nprint(f\"Balanced triangles: {balanced}\")\nprint(f\"Total triangles: {total}\")\nprint(f\"Balance ratio: {balance_ratio:.3f}\")\n\nif balance_ratio > 0.5:\n    print(\"The network is mostly balanced!\")\nelse:\n    print(\"The network has significant imbalance.\")"
   ]
  },
  {
   "cell_type": "markdown",
   "metadata": {},
   "source": [
    "## 3. Signed Centrality Measures\n\nCalculate centrality measures adapted for signed networks."
   ]
  },
  {
   "cell_type": "code",
   "execution_count": null,
   "metadata": {},
   "outputs": [],
   "source": [
    "def signed_degree_centrality(G):\n    \"\"\"Calculate signed degree centrality\"\"\"\n    centrality = {}\n    for node in G.nodes():\n        positive_degree = sum(1 for neighbor in G.neighbors(node) \n                            if G[node][neighbor]['sign'] == 1)\n        negative_degree = sum(1 for neighbor in G.neighbors(node) \n                            if G[node][neighbor]['sign'] == -1)\n        centrality[node] = positive_degree - negative_degree\n    return centrality\n\n# Calculate signed centrality\nsigned_centrality = signed_degree_centrality(G_signed)\n\nprint(\"Signed Degree Centrality:\")\nfor node, centrality in signed_centrality.items():\n    print(f\"Node {node}: {centrality}\")\n\n# Visualize with centrality coloring\nplt.figure(figsize=(10, 8))\n\n# Color nodes by signed centrality\nnode_colors = [signed_centrality[node] for node in G_signed.nodes()]\n\nnx.draw_networkx_nodes(G_signed, pos, node_color=node_colors, \n                        cmap=plt.cm.RdYlBu, node_size=500)\n\n# Draw edges\nnx.draw_networkx_edges(G_signed, pos, edgelist=positive_edges, \n                        edge_color='green', width=2, style='solid')\nnx.draw_networkx_edges(G_signed, pos, edgelist=negative_edges, \n                        edge_color='red', width=2, style='dashed')\n\nnx.draw_networkx_labels(G_signed, pos, font_size=12, font_weight='bold')\n\nplt.title('Signed Network with Signed Degree Centrality')\nplt.colorbar(plt.cm.ScalarMappable(cmap=plt.cm.RdYlBu), label='Signed Centrality')\nplt.show()"
   ]
  }
 ],
 "metadata": {
  "kernelspec": {
   "display_name": "Python 3",
   "language": "python",
   "name": "python3"
  },
  "language_info": {
   "codemirror_mode": {
    "name": "ipython",
    "version": 3
   },
   "file_extension": ".py",
   "mimetype": "text/x-python",
   "name": "python",
   "nbconvert_exporter": "python",
   "pygments_lexer": "ipython3",
   "version": "3.8.5"
  }
 },
 "nbformat": 4,
 "nbformat_minor": 4
}