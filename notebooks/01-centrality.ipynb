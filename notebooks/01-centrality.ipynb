{
 "cells": [
  {
   "cell_type": "markdown",
   "metadata": {},
   "source": [
    "# Centrality in Networks\n",
    "\n",
    "This notebook demonstrates various centrality measures in network analysis using NetworkX.\n",
    "\n",
    "## Learning Objectives\n",
    "- Understand different centrality measures\n",
    "- Implement centrality calculations using NetworkX\n",
    "- Visualize centrality distributions\n",
    "- Compare different centrality measures"
   ]
  },
  {
   "cell_type": "code",
   "execution_count": null,
   "metadata": {},
   "outputs": [],
   "source": [
    "# Import required libraries\n",
    "import networkx as nx\n",
    "import matplotlib.pyplot as plt\n",
    "import numpy as np\n",
    "import pandas as pd\n",
    "import seaborn as sns\n",
    "\n",
    "# Set style for better plots\n",
    "plt.style.use('default')\n",
    "sns.set_palette(\"husl\")\n",
    "\n",
    "# For better display in notebooks\n",
    "%matplotlib inline\n",
    "plt.rcParams['figure.figsize'] = (12, 8)"
   ]
  },
  {
   "cell_type": "markdown",
   "metadata": {},
   "source": [
    "## 1. Creating Example Networks\n",
    "\n",
    "Let's start by creating simple example networks to demonstrate centrality measures."
   ]
  },
  {
   "cell_type": "code",
   "execution_count": null,
   "metadata": {},
   "outputs": [],
   "source": [
    "# Create an undirected graph\n",
    "G_undirected = nx.Graph()\n",
    "edges_undirected = [(1, 2), (2, 3), (2, 4), (6, 3), (4, 5), (4, 6), (5, 6)]\n",
    "G_undirected.add_edges_from(edges_undirected)\n",
    "\n",
    "# Create a directed graph\n",
    "G_directed = nx.DiGraph()\n",
    "edges_directed = [(1, 2), (2, 4), (2, 3), (4, 5), (4, 6), (5, 6), (6, 3)]\n",
    "G_directed.add_edges_from(edges_directed)\n",
    "\n",
    "print(f\"Undirected graph: {G_undirected.number_of_nodes()} nodes, {G_undirected.number_of_edges()} edges\")\n",
    "print(f\"Directed graph: {G_directed.number_of_nodes()} nodes, {G_directed.number_of_edges()} edges\")"
   ]
  },
  {
   "cell_type": "code",
   "execution_count": null,
   "metadata": {},
   "outputs": [],
   "source": [
    "# Visualize the networks\n",
    "fig, (ax1, ax2) = plt.subplots(1, 2, figsize=(15, 6))\n",
    "\n",
    "# Undirected graph\n",
    "pos1 = nx.spring_layout(G_undirected, seed=42)\n",
    "nx.draw(G_undirected, pos1, with_labels=True, node_color='lightblue', \n",
    "        node_size=500, font_size=12, font_weight='bold', ax=ax1)\n",
    "ax1.set_title('Undirected Graph', fontsize=14, fontweight='bold')\n",
    "\n",
    "# Directed graph\n",
    "pos2 = nx.spring_layout(G_directed, seed=42)\n",
    "nx.draw(G_directed, pos2, with_labels=True, node_color='lightgreen', \n",
    "        node_size=500, font_size=12, font_weight='bold', ax=ax2)\n",
    "ax2.set_title('Directed Graph', fontsize=14, fontweight='bold')\n",
    "\n",
    "plt.tight_layout()\n",
    "plt.show()"
   ]
  },
  {
   "cell_type": "markdown",
   "metadata": {},
   "source": [
    "## 2. Degree Centrality\n",
    "\n",
    "Degree centrality is the simplest centrality measure - it counts the number of connections for each node."
   ]
  },
  {
   "cell_type": "code",
   "execution_count": null,
   "metadata": {},
   "outputs": [],
   "source": [
    "# Calculate degree centrality for undirected graph\n",
    "degree_centrality_undir = nx.degree_centrality(G_undirected)\n",
    "print(\"Degree Centrality (Undirected):\")\n",
    "for node, centrality in degree_centrality_undir.items():\n",
    "    print(f\"Node {node}: {centrality:.3f}\")\n",
    "\n",
    "# Calculate in-degree and out-degree for directed graph\n",
    "in_degree = dict(G_directed.in_degree())\n",
    "out_degree = dict(G_directed.out_degree())\n",
    "\n",
    "print(\"\\nIn-Degree (Directed):\")\n",
    "for node, degree in in_degree.items():\n",
    "    print(f\"Node {node}: {degree}\")\n",
    "\n",
    "print(\"\\nOut-Degree (Directed):\")\n",
    "for node, degree in out_degree.items():\n",
    "    print(f\"Node {node}: {degree}\")"
   ]
  },
  {
   "cell_type": "code",
   "execution_count": null,
   "metadata": {},
   "outputs": [],
   "source": [
    "# Visualize degree centrality\n",
    "fig, (ax1, ax2) = plt.subplots(1, 2, figsize=(15, 6))\n",
    "\n",
    "# Undirected graph with degree centrality coloring\n",
    "node_colors_undir = [degree_centrality_undir[node] for node in G_undirected.nodes()]\n",
    "nx.draw(G_undirected, pos1, with_labels=True, node_color=node_colors_undir, \n",
    "        cmap=plt.cm.Reds, node_size=500, font_size=12, font_weight='bold', ax=ax1)\n",
    "ax1.set_title('Degree Centrality (Undirected)', fontsize=14, fontweight='bold')\n",
    "\n",
    "# Directed graph with in-degree coloring\n",
    "node_colors_dir = [in_degree[node] for node in G_directed.nodes()]\n",
    "nx.draw(G_directed, pos2, with_labels=True, node_color=node_colors_dir, \n",
    "        cmap=plt.cm.Greens, node_size=500, font_size=12, font_weight='bold', ax=ax2)\n",
    "ax2.set_title('In-Degree (Directed)', fontsize=14, fontweight='bold')\n",
    "\n",
    "plt.tight_layout()\n",
    "plt.show()"
   ]
  },
  {
   "cell_type": "markdown",
   "metadata": {},
   "source": [
    "## 3. Closeness Centrality\n",
    "\n",
    "Closeness centrality measures how close a node is to all other nodes in the network."
   ]
  },
  {
   "cell_type": "code",
   "execution_count": null,
   "metadata": {},
   "outputs": [],
   "source": [
    "# Calculate closeness centrality\n",
    "closeness_centrality_undir = nx.closeness_centrality(G_undirected)\n",
    "closeness_centrality_dir = nx.closeness_centrality(G_directed)\n",
    "\n",
    "print(\"Closeness Centrality (Undirected):\")\n",
    "for node, centrality in closeness_centrality_undir.items():\n",
    "    print(f\"Node {node}: {centrality:.3f}\")\n",
    "\n",
    "print(\"\\nCloseness Centrality (Directed):\")\n",
    "for node, centrality in closeness_centrality_dir.items():\n",
    "    print(f\"Node {node}: {centrality:.3f}\")"
   ]
  },
  {
   "cell_type": "code",
   "execution_count": null,
   "metadata": {},
   "outputs": [],
   "source": [
    "# Visualize closeness centrality\n",
    "fig, (ax1, ax2) = plt.subplots(1, 2, figsize=(15, 6))\n",
    "\n",
    "# Undirected graph with closeness centrality coloring\n",
    "node_colors_closeness_undir = [closeness_centrality_undir[node] for node in G_undirected.nodes()]\n",
    "nx.draw(G_undirected, pos1, with_labels=True, node_color=node_colors_closeness_undir, \n",
    "        cmap=plt.cm.Blues, node_size=500, font_size=12, font_weight='bold', ax=ax1)\n",
    "ax1.set_title('Closeness Centrality (Undirected)', fontsize=14, fontweight='bold')\n",
    "\n",
    "# Directed graph with closeness centrality coloring\n",
    "node_colors_closeness_dir = [closeness_centrality_dir[node] for node in G_directed.nodes()]\n",
    "nx.draw(G_directed, pos2, with_labels=True, node_color=node_colors_closeness_dir, \n",
    "        cmap=plt.cm.Blues, node_size=500, font_size=12, font_weight='bold', ax=ax2)\n",
    "ax2.set_title('Closeness Centrality (Directed)', fontsize=14, fontweight='bold')\n",
    "\n",
    "plt.tight_layout()\n",
    "plt.show()"
   ]
  },
  {
   "cell_type": "markdown",
   "metadata": {},
   "source": [
    "## 4. Betweenness Centrality\n",
    "\n",
    "Betweenness centrality measures how often a node lies on the shortest paths between other nodes."
   ]
  },
  {
   "cell_type": "code",
   "execution_count": null,
   "metadata": {},
   "outputs": [],
   "source": [
    "# Calculate betweenness centrality\n",
    "betweenness_centrality_undir = nx.betweenness_centrality(G_undirected)\n",
    "betweenness_centrality_dir = nx.betweenness_centrality(G_directed)\n",
    "\n",
    "print(\"Betweenness Centrality (Undirected):\")\n",
    "for node, centrality in betweenness_centrality_undir.items():\n",
    "    print(f\"Node {node}: {centrality:.3f}\")\n",
    "\n",
    "print(\"\\nBetweenness Centrality (Directed):\")\n",
    "for node, centrality in betweenness_centrality_dir.items():\n",
    "    print(f\"Node {node}: {centrality:.3f}\")"
   ]
  },
  {
   "cell_type": "code",
   "execution_count": null,
   "metadata": {},
   "outputs": [],
   "source": [
    "# Visualize betweenness centrality\n",
    "fig, (ax1, ax2) = plt.subplots(1, 2, figsize=(15, 6))\n",
    "\n",
    "# Undirected graph with betweenness centrality coloring\n",
    "node_colors_between_undir = [betweenness_centrality_undir[node] for node in G_undirected.nodes()]\n",
    "nx.draw(G_undirected, pos1, with_labels=True, node_color=node_colors_between_undir, \n",
    "        cmap=plt.cm.Purples, node_size=500, font_size=12, font_weight='bold', ax=ax1)\n",
    "ax1.set_title('Betweenness Centrality (Undirected)', fontsize=14, fontweight='bold')\n",
    "\n",
    "# Directed graph with betweenness centrality coloring\n",
    "node_colors_between_dir = [betweenness_centrality_dir[node] for node in G_directed.nodes()]\n",
    "nx.draw(G_directed, pos2, with_labels=True, node_color=node_colors_between_dir, \n",
    "        cmap=plt.cm.Purples, node_size=500, font_size=12, font_weight='bold', ax=ax2)\n",
    "ax2.set_title('Betweenness Centrality (Directed)', fontsize=14, fontweight='bold')\n",
    "\n",
    "plt.tight_layout()\n",
    "plt.show()"
   ]
  },
  {
   "cell_type": "markdown",
   "metadata": {},
   "source": [
    "## 5. PageRank Centrality\n",
    "\n",
    "PageRank is a variant of eigenvector centrality that includes a damping factor."
   ]
  },
  {
   "cell_type": "code",
   "execution_count": null,
   "metadata": {},
   "outputs": [],
   "source": [
    "# Calculate PageRank centrality\n",
    "pagerank_centrality_undir = nx.pagerank(G_undirected)\n",
    "pagerank_centrality_dir = nx.pagerank(G_directed)\n",
    "\n",
    "print(\"PageRank Centrality (Undirected):\")\n",
    "for node, centrality in pagerank_centrality_undir.items():\n",
    "    print(f\"Node {node}: {centrality:.3f}\")\n",
    "\n",
    "print(\"\\nPageRank Centrality (Directed):\")\n",
    "for node, centrality in pagerank_centrality_dir.items():\n",
    "    print(f\"Node {node}: {centrality:.3f}\")"
   ]
  },
  {
   "cell_type": "markdown",
   "metadata": {},
   "source": [
    "## 6. Real-World Example: Les Miserables Network\n",
    "\n",
    "Let's apply centrality measures to a real network - the character network from Les Miserables."
   ]
  },
  {
   "cell_type": "code",
   "execution_count": null,
   "metadata": {},
   "outputs": [],
   "source": [
    "# Load the Les Miserables network\n",
    "G_lesmis = nx.les_miserables_graph()\n",
    "print(f\"Les Miserables network: {G_lesmis.number_of_nodes()} nodes, {G_lesmis.number_of_edges()} edges\")\n",
    "\n",
    "# Calculate all centrality measures\n",
    "degree_lesmis = nx.degree_centrality(G_lesmis)\n",
    "closeness_lesmis = nx.closeness_centrality(G_lesmis)\n",
    "betweenness_lesmis = nx.betweenness_centrality(G_lesmis)\n",
    "pagerank_lesmis = nx.pagerank(G_lesmis)\n",
    "\n",
    "# Create a DataFrame for comparison\n",
    "centrality_df = pd.DataFrame({\n",
    "    'Character': list(G_lesmis.nodes()),\n",
    "    'Degree': [degree_lesmis[node] for node in G_lesmis.nodes()],\n",
    "    'Closeness': [closeness_lesmis[node] for node in G_lesmis.nodes()],\n",
    "    'Betweenness': [betweenness_lesmis[node] for node in G_lesmis.nodes()],\n",
    "    'PageRank': [pagerank_lesmis[node] for node in G_lesmis.nodes()]\n",
    "})\n",
    "\n",
    "# Show top 10 characters by each centrality measure\n",
    "print(\"\\nTop 10 characters by Degree Centrality:\")\n",
    "print(centrality_df.nlargest(10, 'Degree')[['Character', 'Degree']])\n",
    "\n",
    "print(\"\\nTop 10 characters by Closeness Centrality:\")\n",
    "print(centrality_df.nlargest(10, 'Closeness')[['Character', 'Closeness']])\n",
    "\n",
    "print(\"\\nTop 10 characters by Betweenness Centrality:\")\n",
    "print(centrality_df.nlargest(10, 'Betweenness')[['Character', 'Betweenness']])\n",
    "\n",
    "print(\"\\nTop 10 characters by PageRank:\")\n",
    "print(centrality_df.nlargest(10, 'PageRank')[['Character', 'PageRank']])"
   ]
  },
  {
   "cell_type": "code",
   "execution_count": null,
   "metadata": {},
   "outputs": [],
   "source": [
    "# Visualize the Les Miserables network with degree centrality\n",
    "plt.figure(figsize=(15, 10))\n",
    "pos_lesmis = nx.spring_layout(G_lesmis, seed=42)\n",
    "\n",
    "# Color nodes by degree centrality\n",
    "node_colors_lesmis = [degree_lesmis[node] for node in G_lesmis.nodes()]\n",
    "node_sizes_lesmis = [degree_lesmis[node] * 3000 for node in G_lesmis.nodes()]\n",
    "\n",
    "nx.draw(G_lesmis, pos_lesmis, with_labels=True, node_color=node_colors_lesmis, \n",
    "        cmap=plt.cm.Reds, node_size=node_sizes_lesmis, font_size=8, \n",
    "        font_weight='bold', alpha=0.8)\n",
    "\n",
    "plt.title('Les Miserables Character Network - Degree Centrality', fontsize=16, fontweight='bold')\n",
    "plt.colorbar(plt.cm.ScalarMappable(cmap=plt.cm.Reds), label='Degree Centrality')\n",
    "plt.show()"
   ]
  },
  {
   "cell_type": "markdown",
   "metadata": {},
   "source": [
    "## 7. Correlation Between Centrality Measures\n",
    "\n",
    "Let's examine how different centrality measures correlate with each other."
   ]
  },
  {
   "cell_type": "code",
   "execution_count": null,
   "metadata": {},
   "outputs": [],
   "source": [
    "# Calculate correlation matrix\n",
    "correlation_matrix = centrality_df[['Degree', 'Closeness', 'Betweenness', 'PageRank']].corr()\n",
    "\n",
    "# Create a heatmap\n",
    "plt.figure(figsize=(10, 8))\n",
    "sns.heatmap(correlation_matrix, annot=True, cmap='coolwarm', center=0, \n",
    "            square=True, linewidths=0.5)\n",
    "plt.title('Correlation Between Centrality Measures', fontsize=16, fontweight='bold')\n",
    "plt.tight_layout()\n",
    "plt.show()"
   ]
  },
  {
   "cell_type": "markdown",
   "metadata": {},
   "source": [
    "## 8. Summary and Key Insights\n",
    "\n",
    "### Key Takeaways:\n",
    "\n",
    "1. **Degree Centrality**: Identifies the most connected nodes\n",
    "2. **Closeness Centrality**: Finds nodes that can efficiently spread information\n",
    "3. **Betweenness Centrality**: Identifies bridge nodes that control network flow\n",
    "4. **PageRank**: Combines random walk with teleportation for robust ranking\n",
    "\n",
    "### When to Use Each Measure:\n",
    "- **Degree**: Simple analysis of connectivity\n",
    "- **Closeness**: Information spreading or accessibility\n",
    "- **Betweenness**: Network resilience and flow control\n",
    "- **PageRank**: Web-like structures and directed networks"
   ]
  }
 ],
 "metadata": {
  "kernelspec": {
   "display_name": "Python 3",
   "language": "python",
   "name": "python3"
  },
  "language_info": {
   "codemirror_mode": {
    "name": "ipython",
    "version": 3
   },
   "file_extension": ".py",
   "mimetype": "text/x-python",
   "name": "python",
   "nbconvert_exporter": "python",
   "pygments_lexer": "ipython3",
   "version": "3.8.5"
  }
 },
 "nbformat": 4,
 "nbformat_minor": 4
}