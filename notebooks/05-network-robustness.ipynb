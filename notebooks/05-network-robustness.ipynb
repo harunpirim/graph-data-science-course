{
 "cells": [
  {
   "cell_type": "markdown",
   "metadata": {},
   "source": [
    "# Network Robustness Analysis\n\nThis notebook demonstrates network robustness analysis and resilience testing.\n\n## Learning Objectives\n- Understand network robustness measures\n- Analyze failure scenarios\n- Study percolation theory\n- Implement attack strategies"
   ]
  },
  {
   "cell_type": "code",
   "execution_count": null,
   "metadata": {},
   "outputs": [],
   "source": [
    "import networkx as nx\nimport matplotlib.pyplot as plt\nimport numpy as np\nimport pandas as pd\n\n%matplotlib inline\nplt.rcParams['figure.figsize'] = (12, 8)"
   ]
  },
  {
   "cell_type": "markdown",
   "metadata": {},
   "source": [
    "## 1. Random Failures\n\nAnalyze network behavior under random node failures."
   ]
  },
  {
   "cell_type": "code",
   "execution_count": null,
   "metadata": {},
   "outputs": [],
   "source": [
    "def analyze_random_failures(G, max_removal_fraction=0.8, n_trials=10):\n    \"\"\"Analyze network robustness under random node failures\"\"\"\n    results = []\n    n_nodes = G.number_of_nodes()\n    \n    for removal_fraction in np.linspace(0, max_removal_fraction, 20):\n        n_remove = int(removal_fraction * n_nodes)\n        giant_component_sizes = []\n        \n        for _ in range(n_trials):\n            # Randomly remove nodes\n            nodes_to_remove = np.random.choice(list(G.nodes()), n_remove, replace=False)\n            G_temp = G.copy()\n            G_temp.remove_nodes_from(nodes_to_remove)\n            \n            # Find largest component\n            if G_temp.number_of_nodes() > 0:\n                largest_cc = max(nx.connected_components(G_temp), key=len)\n                giant_component_sizes.append(len(largest_cc) / n_nodes)\n            else:\n                giant_component_sizes.append(0)\n        \n        results.append({\n            'removal_fraction': removal_fraction,\n            'mean_giant_component': np.mean(giant_component_sizes),\n            'std_giant_component': np.std(giant_component_sizes)\n        })\n    \n    return pd.DataFrame(results)\n\n# Test on a scale-free network\nG_scale_free = nx.barabasi_albert_graph(100, 3)\nresults = analyze_random_failures(G_scale_free)\n\nprint(\"Random Failure Analysis Results:\")\nprint(results.head())"
   ]
  },
  {
   "cell_type": "code",
   "execution_count": null,
   "metadata": {},
   "outputs": [],
   "source": [
    "# Plot results\nplt.figure(figsize=(10, 6))\nplt.errorbar(results['removal_fraction'], results['mean_giant_component'], \n            yerr=results['std_giant_component'], fmt='o-', capsize=5)\nplt.xlabel('Fraction of Nodes Removed')\nplt.ylabel('Giant Component Size (Normalized)')\nplt.title('Network Robustness: Random Failures')\nplt.grid(True, alpha=0.3)\nplt.show()"
   ]
  },
  {
   "cell_type": "markdown",
   "metadata": {},
   "source": [
    "## 2. Targeted Attacks\n\nAnalyze network behavior under targeted attacks based on centrality measures."
   ]
  },
  {
   "cell_type": "code",
   "execution_count": null,
   "metadata": {},
   "outputs": [],
   "source": [
    "def analyze_targeted_attacks(G, centrality_func, max_removal_fraction=0.8):\n    \"\"\"Analyze network robustness under targeted attacks\"\"\"\n    results = []\n    n_nodes = G.number_of_nodes()\n    \n    # Calculate centrality\n    centrality = centrality_func(G)\n    \n    for removal_fraction in np.linspace(0, max_removal_fraction, 20):\n        n_remove = int(removal_fraction * n_nodes)\n        G_temp = G.copy()\n        \n        for _ in range(n_remove):\n            if G_temp.number_of_nodes() > 0:\n                # Find node with highest centrality\n                centrality_temp = centrality_func(G_temp)\n                if centrality_temp:\n                    target_node = max(centrality_temp, key=centrality_temp.get)\n                    G_temp.remove_node(target_node)\n        \n        # Find largest component\n        if G_temp.number_of_nodes() > 0:\n            largest_cc = max(nx.connected_components(G_temp), key=len)\n            giant_component_size = len(largest_cc) / n_nodes\n        else:\n            giant_component_size = 0\n        \n        results.append({\n            'removal_fraction': removal_fraction,\n            'giant_component_size': giant_component_size\n        })\n    \n    return pd.DataFrame(results)\n\n# Compare different attack strategies\nstrategies = {\n    'Degree': nx.degree_centrality,\n    'Betweenness': nx.betweenness_centrality,\n    'Closeness': nx.closeness_centrality\n}\n\nattack_results = {}\nfor name, func in strategies.items():\n    attack_results[name] = analyze_targeted_attacks(G_scale_free, func)\n\nprint(\"Targeted Attack Analysis Complete!\")"
   ]
  },
  {
   "cell_type": "code",
   "execution_count": null,
   "metadata": {},
   "outputs": [],
   "source": [
    "# Plot comparison\nplt.figure(figsize=(10, 6))\nfor name, results in attack_results.items():\n    plt.plot(results['removal_fraction'], results['giant_component_size'], \n            'o-', label=name, linewidth=2)\n\nplt.xlabel('Fraction of Nodes Removed')\nplt.ylabel('Giant Component Size (Normalized)')\nplt.title('Network Robustness: Targeted Attacks')\nplt.legend()\nplt.grid(True, alpha=0.3)\nplt.show()"
   ]
  }
 ],
 "metadata": {
  "kernelspec": {
   "display_name": "Python 3",
   "language": "python",
   "name": "python3"
  },
  "language_info": {
   "codemirror_mode": {
    "name": "ipython",
    "version": 3
   },
   "file_extension": ".py",
   "mimetype": "text/x-python",
   "name": "python",
   "nbconvert_exporter": "python",
   "pygments_lexer": "ipython3",
   "version": "3.8.5"
  }
 },
 "nbformat": 4,
 "nbformat_minor": 4
}